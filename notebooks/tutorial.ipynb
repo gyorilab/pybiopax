{
 "cells": [
  {
   "cell_type": "markdown",
   "metadata": {},
   "source": [
    "# PyBioPAX tutorial"
   ]
  },
  {
   "cell_type": "markdown",
   "metadata": {},
   "source": [
    "PyBioPAX implements a native Python object model for BioPAX Level 3. It also provides\n",
    "multiple API endpoints for processing BioPAX content: from in-memory strings,\n",
    "local files, or URLs, as well as through graph queries to the Pathway Commons\n",
    "web service.\n",
    "\n",
    "All key API functions are exposed at the `pybiopax` package level, while the\n",
    "BioPAX object model is exposed via the `pybiopax.biopax` module."
   ]
  },
  {
   "cell_type": "code",
   "execution_count": 1,
   "metadata": {},
   "outputs": [],
   "source": [
    "import pybiopax"
   ]
  },
  {
   "cell_type": "markdown",
   "metadata": {},
   "source": [
    "## Processing a local BioPAX OWL file\n",
    "The `model_from_owl_file` function can be used to process a local BioPAX OWL file."
   ]
  },
  {
   "cell_type": "code",
   "execution_count": 2,
   "metadata": {
    "scrolled": true
   },
   "outputs": [
    {
     "data": {
      "application/vnd.jupyter.widget-view+json": {
       "model_id": "676e7e11845f45848c711fbae24750d7",
       "version_major": 2,
       "version_minor": 0
      },
      "text/plain": [
       "Processing OWL elements:   0%|          | 0.00/58.0k [00:00<?, ?it/s]"
      ]
     },
     "metadata": {},
     "output_type": "display_data"
    }
   ],
   "source": [
    "import os\n",
    "import pybiopax\n",
    "local_owl_file = os.path.join(pybiopax.__path__[0], 'tests', 'biopax_test.owl.gz')\n",
    "model = pybiopax.model_from_owl_gz(local_owl_file)"
   ]
  },
  {
   "cell_type": "markdown",
   "metadata": {},
   "source": [
    "As seen above, PyBioPAX shows a progress bar over the set of OWL elements in\n",
    "the BioPAX OWL file as they are being processed into Python objects."
   ]
  },
  {
   "cell_type": "markdown",
   "metadata": {},
   "source": [
    "## Processing a BioPAX OWL file directly from the web"
   ]
  },
  {
   "cell_type": "markdown",
   "metadata": {},
   "source": [
    "The `process_from_owl_url` function can be used to process BioPAX OWL from a URL."
   ]
  },
  {
   "cell_type": "code",
   "execution_count": 3,
   "metadata": {},
   "outputs": [
    {
     "data": {
      "application/vnd.jupyter.widget-view+json": {
       "model_id": "243d1cc19f0f4d6485ba4ed2140ad0e4",
       "version_major": 2,
       "version_minor": 0
      },
      "text/plain": [
       "Processing OWL elements:   0%|          | 0.00/63.0 [00:00<?, ?it/s]"
      ]
     },
     "metadata": {},
     "output_type": "display_data"
    },
    {
     "data": {
      "text/plain": [
       "<pybiopax.biopax.model.BioPaxModel at 0x111c68520>"
      ]
     },
     "execution_count": 3,
     "metadata": {},
     "output_type": "execute_result"
    }
   ],
   "source": [
    "url = 'https://raw.githubusercontent.com/indralab/pybiopax/master/pybiopax/tests/molecular_interactions_test.owl'\n",
    "pybiopax.model_from_owl_url(url)"
   ]
  },
  {
   "cell_type": "markdown",
   "metadata": {},
   "source": [
    "## Querying the Pathway Commons web service\n",
    "PyBioPAX makes a client available to the Pathway Commons web service in the `pybiopax.pc_client`\n",
    "module. The function within this module that can be called to execute graph-pattern\n",
    "queries on the web service is called `graph_query`. It supports three types of\n",
    "queries:\n",
    "- `neighborhood`: returns a model around a given source entity\n",
    "- `paths-between`: given a list of entities, it returns a model of paths between these entities\n",
    "- `paths-from-to`: given one or more source entities and target entities, it returns a model of paths from the sources to the targets.\n",
    "\n",
    "In the example below, we query for the neighborhood of the ATF4 gene."
   ]
  },
  {
   "cell_type": "code",
   "execution_count": 4,
   "metadata": {},
   "outputs": [],
   "source": [
    "owl_str = pybiopax.pc_client.graph_query(kind='neighborhood', source='ATF4')"
   ]
  },
  {
   "cell_type": "code",
   "execution_count": 5,
   "metadata": {},
   "outputs": [
    {
     "data": {
      "application/vnd.jupyter.widget-view+json": {
       "model_id": "cf04a17860bd403cb156953cf66984f0",
       "version_major": 2,
       "version_minor": 0
      },
      "text/plain": [
       "Processing OWL elements:   0%|          | 0.00/63.8k [00:00<?, ?it/s]"
      ]
     },
     "metadata": {},
     "output_type": "display_data"
    }
   ],
   "source": [
    "model = pybiopax.model_from_owl_str(owl_str)"
   ]
  },
  {
   "cell_type": "markdown",
   "metadata": {},
   "source": [
    "## Traversing the BioPAX model\n",
    "### Iterating over all objects in the model\n",
    "BioPAX objects in a model are stored in the `model.objects` dict, whose keys are the\n",
    "objects' UIDs and values are the objects themselves. This allows quickly\n",
    "referencing BioPAX objects by UID.\n",
    "\n",
    "As an example, below we iterate over all the objects in a model, and find\n",
    "the 10 most common types of objects in the model using a Counter."
   ]
  },
  {
   "cell_type": "code",
   "execution_count": 6,
   "metadata": {},
   "outputs": [
    {
     "data": {
      "text/plain": [
       "[('RelationshipXref', 11677),\n",
       " ('Control', 8734),\n",
       " ('ModificationFeature', 7782),\n",
       " ('SequenceSite', 6453),\n",
       " ('PublicationXref', 6119),\n",
       " ('UnificationXref', 4573),\n",
       " ('TemplateReactionRegulation', 2905),\n",
       " ('Protein', 2362),\n",
       " ('SmallMolecule', 2205),\n",
       " ('SmallMoleculeReference', 2187)]"
      ]
     },
     "execution_count": 6,
     "metadata": {},
     "output_type": "execute_result"
    }
   ],
   "source": [
    "from collections import Counter\n",
    "Counter([obj.__class__.__name__  for uid, obj in model.objects.items()]).most_common(10)"
   ]
  },
  {
   "cell_type": "markdown",
   "metadata": {},
   "source": [
    "### Iterating over certain types of objects in the model"
   ]
  },
  {
   "cell_type": "markdown",
   "metadata": {},
   "source": [
    "It is often useful to create a loop over all of the objects of a given\n",
    "type in the model, for instance, to iterate over all `BiochemicalReaction`s,\n",
    "all `Control`s, or all `PhysicalEntity` objects."
   ]
  },
  {
   "cell_type": "markdown",
   "metadata": {},
   "source": [
    "In the example below, we iterate over all `BiochemicalReaction`s and print\n",
    "their left and right hand sides to get a superficial sense\n",
    "of what each reaction does (one generally needs to traverse the two sides more\n",
    "deeply, referencing features, etc. to fully capture each reaction)."
   ]
  },
  {
   "cell_type": "code",
   "execution_count": 7,
   "metadata": {},
   "outputs": [
    {
     "name": "stdout",
     "output_type": "stream",
     "text": [
      "[Protein(ATF2)] -> [Protein(ATF2)]\n",
      "[Dna(HERPUD1 gene)] -> [Protein(HERPUD1)]\n",
      "[Protein(JDP2)] -> [Protein(JDP2)]\n",
      "[SmallMolecule(N-methyl-7H-dibenzo(c,g)carbazole), Rna(HPRT1 gene)] -> [Rna(HPRT1 gene)]\n",
      "[Dna(IGFPB1 gene)] -> [Protein(IGFBP1)]\n",
      "[Protein(CASP9 protein)] -> [Protein(CASP9 protein)]\n",
      "[Complex(dAP1)] -> [Complex(dAP1)]\n",
      "[Protein(ATF5)] -> [Protein(ATF5)]\n",
      "[Protein(ATF-4)] -> [Protein(ATF-4)]\n",
      "[Rna(ATF4 mRNA)] -> [Protein(ATF4)]\n",
      "[Protein(ATF-4)] -> [Protein(ATF-4)]\n",
      "[Protein(PTK2 protein)] -> [Protein(PTK2 protein)]\n",
      "[Protein(JUN)] -> [Protein(JUN)]\n",
      "[Protein(ATF7)] -> [Protein(ATF7)]\n",
      "[Protein(FOS)] -> [Protein(FOS)]\n",
      "[Protein(ATF-4)] -> [Protein(ATF-4)]\n",
      "[Dna(IL8 gene)] -> [Protein(IL8)]\n",
      "[Protein(ATF3)] -> [Protein(ATF3)]\n",
      "[Protein(ATF-4)] -> [Protein(ATF-4)]\n",
      "[Protein(ATF-4)] -> [Protein(ATF-4)]\n",
      "[Rna(TK1 gene)] -> [Rna(TK1 gene)]\n",
      "[Protein(ATF6)] -> [Protein(ATF6)]\n",
      "[Protein(ATF4)] -> [Protein(ATF4)]\n",
      "[Protein(CASP3 protein)] -> [Protein(CASP3 protein)]\n",
      "[Protein(ATF)] -> [Protein(ATF)]\n",
      "[Protein(ATF1)] -> [Protein(ATF1)]\n",
      "[Protein(ATF4 protein)] -> [Protein(ATF4 protein)]\n",
      "[Dna(ATF3 gene)] -> [Protein(ATF3)]\n",
      "[Dna(HSPA5 gene)] -> [Protein(BiP)]\n",
      "[Dna(ASNS gene)] -> [Protein(ASNS)]\n",
      "[Dna(DDIT3 gene)] -> [Protein(CHOP)]\n",
      "[Dna(CCL2 gene)] -> [Protein(CCL2)]\n"
     ]
    }
   ],
   "source": [
    "for reaction in model.get_objects_by_type(pybiopax.biopax.BiochemicalReaction):\n",
    "    print('%s -> %s' % (reaction.left, reaction.right))"
   ]
  },
  {
   "cell_type": "markdown",
   "metadata": {},
   "source": [
    "### Referencing a specific object by UID"
   ]
  },
  {
   "cell_type": "markdown",
   "metadata": {},
   "source": [
    "It is often useful to refer directly to an object by its UID. This can be done by indexing\n",
    "directly into the `model.objects` attribute, which is a dict keyed by object UIDs.\n",
    "\n",
    "In the example below, we get a reaction object whose identifier is\n",
    "`http://identifiers.org/reactome/R-HSA-381128`, and then reference its `left` attribute."
   ]
  },
  {
   "cell_type": "code",
   "execution_count": 8,
   "metadata": {
    "scrolled": true
   },
   "outputs": [
    {
     "data": {
      "text/plain": [
       "[Rna(ATF4 mRNA)]"
      ]
     },
     "execution_count": 8,
     "metadata": {},
     "output_type": "execute_result"
    }
   ],
   "source": [
    "model.objects['http://identifiers.org/reactome/R-HSA-381128'].left"
   ]
  },
  {
   "cell_type": "markdown",
   "metadata": {},
   "source": [
    "### Example: Find all the phosphorylation sites of all proteins in a given model\n",
    "In this example, we query the Pathway Commons web service for the neighborhood of EGFR\n",
    "and then traverse the model to find all the phosphorylation sites associated\n",
    "with proteins in the model."
   ]
  },
  {
   "cell_type": "code",
   "execution_count": 9,
   "metadata": {},
   "outputs": [
    {
     "data": {
      "application/vnd.jupyter.widget-view+json": {
       "model_id": "25aa706f731f47faa72d950538b83588",
       "version_major": 2,
       "version_minor": 0
      },
      "text/plain": [
       "Processing OWL elements:   0%|          | 0.00/215k [00:00<?, ?it/s]"
      ]
     },
     "metadata": {},
     "output_type": "display_data"
    }
   ],
   "source": [
    "owl_str = pybiopax.pc_client.graph_query(kind='neighborhood', source='EGFR')\n",
    "model = pybiopax.model_from_owl_str(owl_str)"
   ]
  },
  {
   "cell_type": "code",
   "execution_count": 10,
   "metadata": {},
   "outputs": [],
   "source": [
    "# We will capture the set of phosphosites in a dict keyed by protein\n",
    "from collections import defaultdict\n",
    "phosphosites = defaultdict(set)\n",
    "\n",
    "# We iterate over all Protein objects in the model\n",
    "for protein in model.get_objects_by_type(pybiopax.biopax.Protein):\n",
    "    # We use the Protein's entity reference's display name for indexing\n",
    "    name = protein.entity_reference.display_name\n",
    "    # Iterating over all the protein's features\n",
    "    for feature in protein.feature:\n",
    "        # If this is a modification feature which has a known type\n",
    "        # and that type includes \"phospho\", i.e., is a phosphorylation\n",
    "        if isinstance(feature, pybiopax.biopax.ModificationFeature):\n",
    "            if feature.modification_type and \\\n",
    "                    any('phospho' in mod for mod\n",
    "                        in feature.modification_type.term):\n",
    "                # If the site has a location provided\n",
    "                if feature.feature_location and \\\n",
    "                        isinstance(feature.feature_location, pybiopax.biopax.SequenceSite) and \\\n",
    "                        feature.feature_location.sequence_position is not None:\n",
    "                    phosphosites[name].add(feature.feature_location.sequence_position)\n",
    "                    "
   ]
  },
  {
   "cell_type": "markdown",
   "metadata": {},
   "source": [
    "We now list the posphosites of the top 5 proteins with most sites in this model"
   ]
  },
  {
   "cell_type": "code",
   "execution_count": 11,
   "metadata": {},
   "outputs": [
    {
     "name": "stdout",
     "output_type": "stream",
     "text": [
      "EGFR_HUMAN 229, 654, 678, 693, 727, 764, 768, 845, 869, 892, 915, 925, 944, 991, 992, 998, 1016, 1026, 1039, 1041, 1045, 1046, 1064, 1068, 1069, 1070, 1071, 1081, 1085, 1086, 1092, 1096, 1101, 1104, 1110, 1120, 1125, 1138, 1148, 1166, 1172, 1173, 1197\n",
      "FGFR2_HUMAN 464, 465, 466, 467, 584, 585, 586, 587, 588, 589, 654, 655, 656, 657, 658, 731, 732, 733, 734, 767, 768, 769, 770, 778, 779, 780\n",
      "GAB1_HUMAN 285, 373, 406, 446, 447, 472, 527, 589, 619, 627, 657, 659, 689\n",
      "JAK2_HUMAN 119, 221, 372, 373, 570, 637, 813, 868, 966, 972, 1007, 1008\n",
      "FGFR3_HUMAN 577, 579, 647, 648, 649, 650, 724, 726, 760, 762, 770, 772\n"
     ]
    }
   ],
   "source": [
    "for protein, sites in sorted(phosphosites.items(),\n",
    "                             key=lambda x: len(x[1]),\n",
    "                             reverse=True)[:5]:\n",
    "    print(protein, ', '.join(sorted(sites, key=lambda x: int(x))))"
   ]
  },
  {
   "cell_type": "markdown",
   "metadata": {},
   "source": [
    "## Saving a BioPAX model"
   ]
  },
  {
   "cell_type": "markdown",
   "metadata": {},
   "source": [
    "BioPAX models can be serialized back to OWL strings or files using the\n",
    "`pybiopax.model_to_owl_str` or `pybiopax.model_to_owl_file` functions, respectively.\n",
    "\n",
    "In the example below, we serialize a model into a file called `model.owl`, and show its\n",
    "first 25 lines."
   ]
  },
  {
   "cell_type": "code",
   "execution_count": 12,
   "metadata": {},
   "outputs": [
    {
     "data": {
      "application/vnd.jupyter.widget-view+json": {
       "model_id": "a00c6c72a51549c29532eded751cb03f",
       "version_major": 2,
       "version_minor": 0
      },
      "text/plain": [
       "Serializing OWL elements:   0%|          | 0/215405 [00:00<?, ?it/s]"
      ]
     },
     "metadata": {},
     "output_type": "display_data"
    }
   ],
   "source": [
    "pybiopax.model_to_owl_file(model, 'model.owl')"
   ]
  },
  {
   "cell_type": "code",
   "execution_count": 13,
   "metadata": {},
   "outputs": [
    {
     "name": "stdout",
     "output_type": "stream",
     "text": [
      "<?xml version='1.0' encoding='utf-8'?>\n",
      "<rdf:RDF xmlns:xsd=\"http://www.w3.org/2001/XMLSchema#\" xmlns:owl=\"http://www.w3.org/2002/07/owl#\" xmlns:rdf=\"http://www.w3.org/1999/02/22-rdf-syntax-ns#\" xmlns:bp=\"http://www.biopax.org/release/biopax-level3.owl#\" xml:base=\"http://pathwaycommons.org/pc12/\">\n",
      "  <owl:Ontology rdf:about=\"\">\n",
      " <owl:imports rdf:resource=\"http://www.biopax.org/release/biopax-level3.owl#\"/>\n",
      "  </owl:Ontology>\n",
      "\n",
      "<bp:SequenceSite rdf:ID=\"SequenceSite_bfd0338a029352b8e0668f3eb0f6bbac\">\n",
      " <bp:positionStatus rdf:datatype=\"http://www.w3.org/2001/XMLSchema#string\">EQUAL</bp:positionStatus>\n",
      " <bp:sequencePosition rdf:datatype=\"http://www.w3.org/2001/XMLSchema#int\">272</bp:sequencePosition>\n",
      "</bp:SequenceSite>\n",
      "\n",
      "<bp:SequenceSite rdf:ID=\"SequenceSite_14f64bc4cd23eca47d429e39069e06c7\">\n",
      " <bp:positionStatus rdf:datatype=\"http://www.w3.org/2001/XMLSchema#string\">EQUAL</bp:positionStatus>\n",
      " <bp:sequencePosition rdf:datatype=\"http://www.w3.org/2001/XMLSchema#int\">613</bp:sequencePosition>\n",
      "</bp:SequenceSite>\n",
      "\n",
      "<bp:ModificationFeature rdf:ID=\"ModificationFeature_359d393d7d605f94ebb3e1853275973f\">\n",
      " <bp:comment rdf:datatype=\"http://www.w3.org/2001/XMLSchema#string\">MOD_RES 33 33 Phosphothreonine.</bp:comment>\n",
      " <bp:featureLocation rdf:resource=\"#SequenceSite_2bfb5009a4f06e0205c03bfbb9422c1c\"/>\n",
      " <bp:modificationType rdf:resource=\"#SequenceModificationVocabulary_51783aaefc798a70971be2e9fcea2d6e\"/>\n",
      "</bp:ModificationFeature>\n",
      "\n",
      "<bp:SequenceSite rdf:ID=\"SequenceSite_97fa778b0824ac49fa0540c412f7df5b\">\n",
      " <bp:positionStatus rdf:datatype=\"http://www.w3.org/2001/XMLSchema#string\">EQUAL</bp:positionStatus>\n",
      " <bp:sequencePosition rdf:datatype=\"http://www.w3.org/2001/XMLSchema#int\">600</bp:sequencePosition>\n",
      "\n"
     ]
    }
   ],
   "source": [
    "with open('model.owl', 'r') as fh:\n",
    "    head = ''.join([fh.readline() for _ in range(25)])\n",
    "    print(head)"
   ]
  },
  {
   "cell_type": "markdown",
   "metadata": {},
   "source": [
    "## Using path constraint strings to traverse a model\n",
    "Using the `pybiopax.paths` module we can find lists of objects that satisfy a path constraint starting from a given object."
   ]
  },
  {
   "cell_type": "code",
   "execution_count": 14,
   "metadata": {},
   "outputs": [],
   "source": [
    "from pybiopax.paths import find_objects"
   ]
  },
  {
   "cell_type": "markdown",
   "metadata": {},
   "source": [
    "Let's start with a modification feature objects as a starting point for traversal."
   ]
  },
  {
   "cell_type": "code",
   "execution_count": 15,
   "metadata": {},
   "outputs": [
    {
     "data": {
      "text/plain": [
       "ModificationFeature(SequenceModificationVocabulary(\"optyr\", \"O4'-phospho-L-tyrosine\")@SequenceSite(628))"
      ]
     },
     "execution_count": 15,
     "metadata": {},
     "output_type": "execute_result"
    }
   ],
   "source": [
    "modf = model.objects['ModificationFeature_23b018cf79493a97029da4309b044958']\n",
    "modf"
   ]
  },
  {
   "cell_type": "markdown",
   "metadata": {},
   "source": [
    "Let's now link to the entities of which this is a modification feature using the `feature_of` link. This returns a list of physical entities, in this example, just one."
   ]
  },
  {
   "cell_type": "code",
   "execution_count": 16,
   "metadata": {
    "scrolled": true
   },
   "outputs": [
    {
     "data": {
      "text/plain": [
       "[Protein(IL3RB)]"
      ]
     },
     "execution_count": 16,
     "metadata": {},
     "output_type": "execute_result"
    }
   ],
   "source": [
    "find_objects(modf, 'feature_of')"
   ]
  },
  {
   "cell_type": "markdown",
   "metadata": {},
   "source": [
    "We can extend the path constraint to then link forward to all other features of the entities that this is a feature of using the `feature` link. We additionally set a class constraint `ModificationFeature` to return only `ModificationFeature`s. Finally, we link to the type of the modification feature through the `modification_type` link."
   ]
  },
  {
   "cell_type": "code",
   "execution_count": 17,
   "metadata": {},
   "outputs": [
    {
     "data": {
      "text/plain": [
       "[SequenceModificationVocabulary(\"optyr\", \"O4'-phospho-L-tyrosine\"),\n",
       " SequenceModificationVocabulary(\"optyr\", \"O4'-phospho-L-tyrosine\")]"
      ]
     },
     "execution_count": 17,
     "metadata": {},
     "output_type": "execute_result"
    }
   ],
   "source": [
    "find_objects(modf, 'feature_of/feature:ModificationFeature/modification_type')"
   ]
  }
 ],
 "metadata": {
  "kernelspec": {
   "display_name": "Python 3",
   "language": "python",
   "name": "python3"
  },
  "language_info": {
   "codemirror_mode": {
    "name": "ipython",
    "version": 3
   },
   "file_extension": ".py",
   "mimetype": "text/x-python",
   "name": "python",
   "nbconvert_exporter": "python",
   "pygments_lexer": "ipython3",
   "version": "3.9.7"
  }
 },
 "nbformat": 4,
 "nbformat_minor": 4
}
