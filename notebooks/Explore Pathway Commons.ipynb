{
 "cells": [
  {
   "cell_type": "markdown",
   "id": "secret-capacity",
   "metadata": {},
   "source": [
    "This notebook is a demonstration of PyBioPAX that contains a mix of functions that have been pre-implemented in `pybiopax.tools` as well as *ad-hoc* traversal tools implemented in the notebook."
   ]
  },
  {
   "cell_type": "code",
   "execution_count": null,
   "id": "functional-tanzania",
   "metadata": {},
   "outputs": [],
   "source": [
    "import pystow\n",
    "import gzip\n",
    "from typing import Optional\n",
    "import pickle\n",
    "import pybiopax\n",
    "from lxml import etree\n",
    "from tabulate import tabulate\n",
    "from pybiopax.biopax import *\n",
    "from tqdm.auto import tqdm\n",
    "from collections import Counter\n",
    "from IPython.display import HTML"
   ]
  },
  {
   "cell_type": "code",
   "execution_count": null,
   "id": "worse-freeware",
   "metadata": {},
   "outputs": [],
   "source": [
    "def ensure_pc_detailed(version: Optional[str], force: bool = False):\n",
    "    if version is None:\n",
    "        import bioversions\n",
    "        \n",
    "        version = bioversions.get_version(\"pathwaycommons\")\n",
    "\n",
    "    url = f\"https://www.pathwaycommons.org/archives/PC2/v{version}/PathwayCommons{version}.Detailed.BIOPAX.owl.gz\"\n",
    "    path = pystow.ensure(\"bio\", \"pathwaycommons\", version, url=url)    \n",
    "    return pybiopax.model_from_owl_gz(path)\n",
    "\n",
    "pc12 = ensure_pc_detailed(version=\"12\")"
   ]
  },
  {
   "cell_type": "code",
   "execution_count": null,
   "id": "brief-clone",
   "metadata": {},
   "outputs": [],
   "source": [
    "type_counter = Counter(\n",
    "    obj.__class__.__name__\n",
    "    for obj in pc12.objects.values()\n",
    ")\n",
    "print(tabulate(type_counter.most_common(), headers=[\"Type\", \"Count\"]))"
   ]
  },
  {
   "cell_type": "markdown",
   "id": "interracial-certification",
   "metadata": {},
   "source": [
    "## Which enzymes need to be phosphorylated to catalyze a reaction?\n",
    "\n",
    "There are a few different perspectives for the concept of \"active states\", but this is a quick and dirty way of identifying them."
   ]
  },
  {
   "cell_type": "code",
   "execution_count": null,
   "id": "subject-kingston",
   "metadata": {},
   "outputs": [],
   "source": [
    "def iter_modifications(entity: PhysicalEntity, query: str) -> Iterable[ModificationFeature]:\n",
    "    \"\"\"Iterate over modification features in a protein that have the query string as a substring.\"\"\"\n",
    "    for feature in entity.feature or []:\n",
    "        # If this is a modification feature which has a known type\n",
    "        # and that type includes \"phospho\", i.e., is a phosphorylation\n",
    "        if (\n",
    "            isinstance(feature, ModificationFeature)\n",
    "            and feature.modification_type\n",
    "            and any(query in mod for mod in feature.modification_type.term)\n",
    "        ):\n",
    "            yield feature\n",
    "\n",
    "def iter_phosphosites(protein: Protein):\n",
    "    yield from iter_modifications(protein, \"phospho\")\n",
    "\n",
    "rows = []\n",
    "for obj in tqdm(pc12.get_objects_by_type(Catalysis)):\n",
    "    for protein in obj.controller:\n",
    "        if not isinstance(protein, Protein):\n",
    "            continue\n",
    "        features = list(iter_phosphosites(protein))\n",
    "        if not features:\n",
    "            continue\n",
    "        rows.append((\n",
    "            obj.display_name or \"\",\n",
    "            protein.display_name,\n",
    "            \", \".join(o.display_name for o in obj.controlled.left),\n",
    "            \", \".join(o.display_name for o in obj.controlled.right),\n",
    "        ))\n",
    "\n",
    "HTML(tabulate(rows, tablefmt=\"html\", headers=[\"Name\", \"Enzyme\", \"Reactants\", \"Products\"]))"
   ]
  },
  {
   "cell_type": "markdown",
   "id": "composed-marketing",
   "metadata": {},
   "source": [
    "## Which catalyses of biochemical reactions require a cofactor?\n",
    "\n",
    "It turns out Pathway Commons has a few more than 80 with this granularity."
   ]
  },
  {
   "cell_type": "code",
   "execution_count": null,
   "id": "portuguese-leather",
   "metadata": {},
   "outputs": [],
   "source": [
    "def iter_cofactored_catalyses(model: BioPaxModel) -> Iterable[Catalysis]:\n",
    "    \"\"\"Iterate over catalyses of biochemical reactions that require a cofactor.\"\"\"\n",
    "    for obj in model.get_objects_by_type(Catalysis):\n",
    "        if not obj.cofactor:\n",
    "            continue\n",
    "        if not isinstance(obj.controlled, BiochemicalReaction):\n",
    "            continue\n",
    "        yield obj\n",
    "\n",
    "rows = [\n",
    "    (\n",
    "        obj.display_name,\n",
    "        obj.controller,\n",
    "        obj.cofactor.display_name,\n",
    "        \", \".join(o.display_name for o in obj.controlled.left),\n",
    "        \", \".join(o.display_name for o in obj.controlled.right),\n",
    "    )\n",
    "    for obj in iter_cofactored_catalyses(pc12)\n",
    "]\n",
    "\n",
    "HTML(tabulate(rows, tablefmt=\"html\", headers=[\"Name\", \"Controller\", \"Cofactor\", \"Reactants\", \"Products\"]))"
   ]
  },
  {
   "cell_type": "markdown",
   "id": "lucky-roller",
   "metadata": {},
   "source": [
    "## Find Phosphorylation Reactions\n",
    "\n",
    "And later, generalize it to find any kind of addition of a modification."
   ]
  },
  {
   "cell_type": "code",
   "execution_count": null,
   "id": "heavy-nancy",
   "metadata": {},
   "outputs": [],
   "source": [
    "def get_simple_physical_entity_xrefs(obj: SimplePhysicalEntity) -> Set[Tuple[str, str]]:\n",
    "    \"\"\"Get xrefs from a simple physical entity as pairs.\"\"\"\n",
    "    if not obj.entity_reference:\n",
    "        return set()\n",
    "    return {(xref.db, xref.id) for xref in obj.entity_reference.xref or []}\n",
    "\n",
    "def is_modification_reaction(obj: Any) -> bool:\n",
    "    \"\"\"Check if the object is a biochemical reaction with the same\n",
    "    entity as reactant/product but it's modified.\n",
    "    \"\"\"\n",
    "    if not isinstance(obj, BiochemicalReaction):\n",
    "        return False\n",
    "    if len(obj.left) != 1 or len(obj.right) != 1:\n",
    "        return False\n",
    "    left, right = obj.left[0], obj.right[0]\n",
    "    if not isinstance(left, Protein) or not isinstance(right, Protein):\n",
    "        return False\n",
    "    left_xrefs = get_simple_physical_entity_xrefs(left)\n",
    "    right_xrefs = get_simple_physical_entity_xrefs(right)\n",
    "    return 0 < len(left_xrefs.intersection(right_xrefs))\n",
    "\n",
    "def iter_modification_reactions(model: BioPaxModel) -> Iterable[BiochemicalReaction]:\n",
    "    \"\"\"Iterate over biochemical reactions in the model that are modification reactions which\n",
    "    pass :func:`is_modification_reaction`.\n",
    "    \"\"\"\n",
    "    for obj in model.get_objects_by_type(BiochemicalReaction):\n",
    "        if is_modification_reaction(obj):\n",
    "            yield obj\n",
    "\n",
    "def iter_phosphorylations(m):\n",
    "    for obj in iter_modification_reactions(m):\n",
    "        left = list(iter_phosphosites(obj.left[0]))\n",
    "        right = list(iter_phosphosites(obj.right[0]))\n",
    "        if not left and right:\n",
    "            yield obj\n",
    "\n",
    "rows = [\n",
    "    (\n",
    "        obj.display_name, obj.left[0]\n",
    "    )\n",
    "    for obj in iter_phosphorylations(pc12)\n",
    "]\n",
    "\n",
    "HTML(tabulate(rows, tablefmt=\"html\", headers=[\"Name\", \"Reactant\"]))"
   ]
  },
  {
   "cell_type": "markdown",
   "id": "monetary-analysis",
   "metadata": {},
   "source": [
    "## Get Proteins with Bound Small Molecules \n",
    "\n",
    "In general, complexes are pretty easy to get with `get_objects_by_type()` then iterating over the `component` attribute. The following functions iterate over complexes between proteins and one or more small molecules."
   ]
  },
  {
   "cell_type": "code",
   "execution_count": null,
   "id": "derived-system",
   "metadata": {},
   "outputs": [],
   "source": [
    "def head(it, n=10):\n",
    "    for _, obj in zip(range(n), it):\n",
    "        yield obj\n",
    "\n",
    "def iter_bound(m):\n",
    "    for obj in m.get_objects_by_type(Complex):\n",
    "        c = Counter(c.__class__ for c in obj.component)\n",
    "        if c.get(Protein) != 1:\n",
    "            continue\n",
    "        if {SmallMolecule, Protein} != set(c):\n",
    "            continue\n",
    "        yield obj\n",
    "\n",
    "for obj in head(iter_bound(pc12)):\n",
    "    print(obj)\n",
    "    for component in obj.component:\n",
    "        print(\" \", component)"
   ]
  },
  {
   "cell_type": "markdown",
   "id": "statistical-chocolate",
   "metadata": {},
   "source": [
    "Get proteins with multiple bound small molecules"
   ]
  },
  {
   "cell_type": "code",
   "execution_count": null,
   "id": "continued-grade",
   "metadata": {},
   "outputs": [],
   "source": [
    "def iter_bound_multiple(m):\n",
    "    for obj in m.get_objects_by_type(Complex):\n",
    "        c = Counter(c.__class__ for c in obj.component)\n",
    "        if c.get(Protein) != 1:\n",
    "            continue\n",
    "        if {SmallMolecule, Protein} != set(c):\n",
    "            continue\n",
    "        if c.get(SmallMolecule) < 2:\n",
    "            continue\n",
    "        yield obj\n",
    "\n",
    "for obj in head(iter_bound_multiple(pc12)):\n",
    "    print(obj)\n",
    "    for component in obj.component:\n",
    "        print(\" \", component)"
   ]
  },
  {
   "cell_type": "code",
   "execution_count": null,
   "id": "typical-inquiry",
   "metadata": {},
   "outputs": [],
   "source": [
    "counter = Counter(\n",
    "    xref.__class__.__name__\n",
    "    for obj in pc12.get_objects_by_type(SimplePhysicalEntity)\n",
    "    if obj.entity_reference\n",
    "    for xref in obj.entity_reference.xref or []\n",
    ")\n",
    "counter.most_common()"
   ]
  }
 ],
 "metadata": {
  "kernelspec": {
   "display_name": "Python 3",
   "language": "python",
   "name": "python3"
  },
  "language_info": {
   "codemirror_mode": {
    "name": "ipython",
    "version": 3
   },
   "file_extension": ".py",
   "mimetype": "text/x-python",
   "name": "python",
   "nbconvert_exporter": "python",
   "pygments_lexer": "ipython3",
   "version": "3.9.5"
  }
 },
 "nbformat": 4,
 "nbformat_minor": 5
}
