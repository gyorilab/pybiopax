{
 "cells": [
  {
   "cell_type": "markdown",
   "id": "secret-capacity",
   "metadata": {},
   "source": [
    "This notebook is a demonstration of PyBioPAX that contains a mix of functions for traversing Pathway Commons' full, detailed data dump."
   ]
  },
  {
   "cell_type": "code",
   "execution_count": 1,
   "id": "functional-tanzania",
   "metadata": {},
   "outputs": [],
   "source": [
    "import pystow\n",
    "import gzip\n",
    "from typing import Optional, Iterable, Set, Tuple, Any\n",
    "import pickle\n",
    "import pybiopax\n",
    "from lxml import etree\n",
    "from tabulate import tabulate\n",
    "from pybiopax.biopax import *\n",
    "from tqdm.auto import tqdm\n",
    "from collections import Counter\n",
    "from IPython.display import HTML"
   ]
  },
  {
   "cell_type": "code",
   "execution_count": 2,
   "id": "worse-freeware",
   "metadata": {},
   "outputs": [
    {
     "data": {
      "application/vnd.jupyter.widget-view+json": {
       "model_id": "17a9c4afb61a4297905ecee467bb98f3",
       "version_major": 2,
       "version_minor": 0
      },
      "text/plain": [
       "Processing OWL elements:   0%|          | 0.00/3.75M [00:00<?, ?it/s]"
      ]
     },
     "metadata": {},
     "output_type": "display_data"
    }
   ],
   "source": [
    "def ensure_pc_detailed(version: Optional[str], force: bool = False):\n",
    "    if version is None:\n",
    "        import bioversions\n",
    "        \n",
    "        version = bioversions.get_version(\"pathwaycommons\")\n",
    "\n",
    "    url = f\"https://www.pathwaycommons.org/archives/PC2/v{version}/PathwayCommons{version}.Detailed.BIOPAX.owl.gz\"\n",
    "    path = pystow.ensure(\"bio\", \"pathwaycommons\", version, url=url)    \n",
    "    return pybiopax.model_from_owl_gz(path)\n",
    "\n",
    "pc12 = ensure_pc_detailed(version=\"12\")"
   ]
  },
  {
   "cell_type": "markdown",
   "id": "handy-tuner",
   "metadata": {},
   "source": [
    "A simple first look into a model is to count how many of each type of BioPAX element it contains."
   ]
  },
  {
   "cell_type": "code",
   "execution_count": 10,
   "id": "brief-clone",
   "metadata": {},
   "outputs": [
    {
     "name": "stdout",
     "output_type": "stream",
     "text": [
      "Got 3,745,386 models\n"
     ]
    },
    {
     "data": {
      "text/html": [
       "<table>\n",
       "<thead>\n",
       "<tr><th>Type                            </th><th style=\"text-align: right;\">  Count</th></tr>\n",
       "</thead>\n",
       "<tbody>\n",
       "<tr><td>TemplateReactionRegulation      </td><td style=\"text-align: right;\"> 962641</td></tr>\n",
       "<tr><td>RelationshipXref                </td><td style=\"text-align: right;\"> 683543</td></tr>\n",
       "<tr><td>Evidence                        </td><td style=\"text-align: right;\"> 558049</td></tr>\n",
       "<tr><td>TemplateReaction                </td><td style=\"text-align: right;\"> 166320</td></tr>\n",
       "<tr><td>Control                         </td><td style=\"text-align: right;\"> 152432</td></tr>\n",
       "<tr><td>UnificationXref                 </td><td style=\"text-align: right;\"> 133283</td></tr>\n",
       "<tr><td>PublicationXref                 </td><td style=\"text-align: right;\"> 119613</td></tr>\n",
       "<tr><td>Protein                         </td><td style=\"text-align: right;\"> 114023</td></tr>\n",
       "<tr><td>SequenceSite                    </td><td style=\"text-align: right;\"> 108257</td></tr>\n",
       "<tr><td>Catalysis                       </td><td style=\"text-align: right;\"> 100923</td></tr>\n",
       "<tr><td>Stoichiometry                   </td><td style=\"text-align: right;\">  87274</td></tr>\n",
       "<tr><td>ModificationFeature             </td><td style=\"text-align: right;\">  85815</td></tr>\n",
       "<tr><td>BiochemicalReaction             </td><td style=\"text-align: right;\">  50353</td></tr>\n",
       "<tr><td>Rna                             </td><td style=\"text-align: right;\">  50323</td></tr>\n",
       "<tr><td>RnaReference                    </td><td style=\"text-align: right;\">  49119</td></tr>\n",
       "<tr><td>Complex                         </td><td style=\"text-align: right;\">  45610</td></tr>\n",
       "<tr><td>SmallMolecule                   </td><td style=\"text-align: right;\">  39555</td></tr>\n",
       "<tr><td>ProteinReference                </td><td style=\"text-align: right;\">  27981</td></tr>\n",
       "<tr><td>ComplexAssembly                 </td><td style=\"text-align: right;\">  24552</td></tr>\n",
       "<tr><td>SmallMoleculeReference          </td><td style=\"text-align: right;\">  24228</td></tr>\n",
       "<tr><td>SequenceInterval                </td><td style=\"text-align: right;\">  23617</td></tr>\n",
       "<tr><td>FragmentFeature                 </td><td style=\"text-align: right;\">  23597</td></tr>\n",
       "<tr><td>Degradation                     </td><td style=\"text-align: right;\">  20625</td></tr>\n",
       "<tr><td>BindingFeature                  </td><td style=\"text-align: right;\">  16930</td></tr>\n",
       "<tr><td>Modulation                      </td><td style=\"text-align: right;\">  15364</td></tr>\n",
       "<tr><td>PathwayStep                     </td><td style=\"text-align: right;\">  15160</td></tr>\n",
       "<tr><td>Transport                       </td><td style=\"text-align: right;\">   6342</td></tr>\n",
       "<tr><td>Pathway                         </td><td style=\"text-align: right;\">   5772</td></tr>\n",
       "<tr><td>SequenceLocation                </td><td style=\"text-align: right;\">   4514</td></tr>\n",
       "<tr><td>RnaRegion                       </td><td style=\"text-align: right;\">   4286</td></tr>\n",
       "<tr><td>RnaRegionReference              </td><td style=\"text-align: right;\">   4251</td></tr>\n",
       "<tr><td>BiochemicalPathwayStep          </td><td style=\"text-align: right;\">   3831</td></tr>\n",
       "<tr><td>MolecularInteraction            </td><td style=\"text-align: right;\">   3545</td></tr>\n",
       "<tr><td>DnaRegion                       </td><td style=\"text-align: right;\">   2674</td></tr>\n",
       "<tr><td>DnaRegionReference              </td><td style=\"text-align: right;\">   2672</td></tr>\n",
       "<tr><td>PhysicalEntity                  </td><td style=\"text-align: right;\">   1680</td></tr>\n",
       "<tr><td>Dna                             </td><td style=\"text-align: right;\">   1679</td></tr>\n",
       "<tr><td>DnaReference                    </td><td style=\"text-align: right;\">   1266</td></tr>\n",
       "<tr><td>ChemicalStructure               </td><td style=\"text-align: right;\">   1144</td></tr>\n",
       "<tr><td>BioSource                       </td><td style=\"text-align: right;\">    591</td></tr>\n",
       "<tr><td>TransportWithBiochemicalReaction</td><td style=\"text-align: right;\">    582</td></tr>\n",
       "<tr><td>SequenceModificationVocabulary  </td><td style=\"text-align: right;\">    346</td></tr>\n",
       "<tr><td>CellularLocationVocabulary      </td><td style=\"text-align: right;\">    295</td></tr>\n",
       "<tr><td>SequenceRegionVocabulary        </td><td style=\"text-align: right;\">    253</td></tr>\n",
       "<tr><td>Conversion                      </td><td style=\"text-align: right;\">    247</td></tr>\n",
       "<tr><td>EntityFeature                   </td><td style=\"text-align: right;\">     84</td></tr>\n",
       "<tr><td>InteractionVocabulary           </td><td style=\"text-align: right;\">     49</td></tr>\n",
       "<tr><td>EvidenceCodeVocabulary          </td><td style=\"text-align: right;\">     47</td></tr>\n",
       "<tr><td>RelationshipTypeVocabulary      </td><td style=\"text-align: right;\">     18</td></tr>\n",
       "<tr><td>Provenance                      </td><td style=\"text-align: right;\">     14</td></tr>\n",
       "<tr><td>Interaction                     </td><td style=\"text-align: right;\">      6</td></tr>\n",
       "<tr><td>Score                           </td><td style=\"text-align: right;\">      4</td></tr>\n",
       "<tr><td>EntityReferenceTypeVocabulary   </td><td style=\"text-align: right;\">      2</td></tr>\n",
       "<tr><td>DeltaG                          </td><td style=\"text-align: right;\">      2</td></tr>\n",
       "<tr><td>CellVocabulary                  </td><td style=\"text-align: right;\">      2</td></tr>\n",
       "<tr><td>TissueVocabulary                </td><td style=\"text-align: right;\">      1</td></tr>\n",
       "</tbody>\n",
       "</table>"
      ],
      "text/plain": [
       "<IPython.core.display.HTML object>"
      ]
     },
     "execution_count": 10,
     "metadata": {},
     "output_type": "execute_result"
    }
   ],
   "source": [
    "type_counter = Counter(\n",
    "    obj.__class__.__name__\n",
    "    for obj in pc12.objects.values()\n",
    ")\n",
    "\n",
    "print(f\"Got {sum(type_counter.values()):,} models\")\n",
    "\n",
    "HTML(tabulate(type_counter.most_common(), tablefmt=\"html\", headers=[\"Type\", \"Count\"]))"
   ]
  },
  {
   "cell_type": "markdown",
   "id": "interracial-certification",
   "metadata": {},
   "source": [
    "## Which enzymes need to be phosphorylated to catalyze a reaction?\n",
    "\n",
    "There are a few different perspectives for the concept of \"active states\", but this is a quick and dirty way of identifying them. The first 15 are shown for brevity. To implement this check, it was also necessary to impleent the `iter_modifications()` function which gives all features for a given protein (or any other physical entity)."
   ]
  },
  {
   "cell_type": "code",
   "execution_count": 4,
   "id": "subject-kingston",
   "metadata": {},
   "outputs": [
    {
     "data": {
      "application/vnd.jupyter.widget-view+json": {
       "model_id": "0b90efb510fb4f52bca5335ea00cf3f2",
       "version_major": 2,
       "version_minor": 0
      },
      "text/plain": [
       "0it [00:00, ?it/s]"
      ]
     },
     "metadata": {},
     "output_type": "display_data"
    },
    {
     "name": "stdout",
     "output_type": "stream",
     "text": [
      "Matched 1283 examples\n"
     ]
    },
    {
     "data": {
      "text/html": [
       "<table>\n",
       "<thead>\n",
       "<tr><th>Name             </th><th>Enzyme          </th><th>Reactants    </th><th>Products                </th></tr>\n",
       "</thead>\n",
       "<tbody>\n",
       "<tr><td>                 </td><td>RAF1            </td><td>MEK1         </td><td>MEK1                    </td></tr>\n",
       "<tr><td>                 </td><td>JAK2_p          </td><td>STAT5, STAT5 </td><td>STAT5_p                 </td></tr>\n",
       "<tr><td>                 </td><td>RAF1            </td><td>MEK2         </td><td>MEK2                    </td></tr>\n",
       "<tr><td>                 </td><td>JAK1_p          </td><td>gp130, gp130 </td><td>gp130_p                 </td></tr>\n",
       "<tr><td>                 </td><td>Akt_p           </td><td>GSK3b        </td><td>GSK3b_p                 </td></tr>\n",
       "<tr><td>CATALYSIS        </td><td>Raf1            </td><td>MEK          </td><td>MEK                     </td></tr>\n",
       "<tr><td>                 </td><td>MEK1/2(MKK1/2)_p</td><td>ERK1/2       </td><td>ERK1/2_p                </td></tr>\n",
       "<tr><td>                 </td><td>PLCgamma1       </td><td>PI-4-5-P2    </td><td>DAG, IP3                </td></tr>\n",
       "<tr><td>                 </td><td>MEK1/2(MKK1/2)_p</td><td>ERK1/2       </td><td>ERK1/2_p                </td></tr>\n",
       "<tr><td>CATALYSIS        </td><td>MAPKAPK2        </td><td>SRF          </td><td>SRF                     </td></tr>\n",
       "<tr><td>UNKNOWN_CATALYSIS</td><td>PKCtheta        </td><td>PRKD1        </td><td>PRKD1                   </td></tr>\n",
       "<tr><td>                 </td><td>ERK1/2_p        </td><td>ELK-1        </td><td>ELK-1_p                 </td></tr>\n",
       "<tr><td>                 </td><td>p-T,Y-JNK1      </td><td>BIM, BAD, ATP</td><td>ADP, p-S128-BAD, BCL2L11</td></tr>\n",
       "<tr><td>                 </td><td>MKK4            </td><td>nPKC-delta   </td><td>nPKC-delta              </td></tr>\n",
       "<tr><td>CATALYSIS        </td><td>TAK1            </td><td>ATP, MKK6    </td><td>ADP, MKK6               </td></tr>\n",
       "</tbody>\n",
       "</table>"
      ],
      "text/plain": [
       "<IPython.core.display.HTML object>"
      ]
     },
     "execution_count": 4,
     "metadata": {},
     "output_type": "execute_result"
    }
   ],
   "source": [
    "def iter_modifications(entity: PhysicalEntity, query: str) -> Iterable[ModificationFeature]:\n",
    "    \"\"\"Iterate over modification features in a protein that have the query string as a substring.\"\"\"\n",
    "    for feature in entity.feature or []:\n",
    "        # If this is a modification feature which has a known type\n",
    "        # and that type includes \"phospho\", i.e., is a phosphorylation\n",
    "        if (\n",
    "            isinstance(feature, ModificationFeature)\n",
    "            and feature.modification_type\n",
    "            and any(query in mod for mod in feature.modification_type.term)\n",
    "        ):\n",
    "            yield feature\n",
    "\n",
    "def iter_phosphosites(protein: Protein):\n",
    "    yield from iter_modifications(protein, \"phospho\")\n",
    "\n",
    "rows = []\n",
    "for obj in tqdm(pc12.get_objects_by_type(Catalysis)):\n",
    "    for protein in obj.controller:\n",
    "        if not isinstance(protein, Protein):\n",
    "            continue\n",
    "        features = list(iter_phosphosites(protein))\n",
    "        if not features:\n",
    "            continue\n",
    "        rows.append((\n",
    "            obj.display_name or \"\",\n",
    "            protein.display_name,\n",
    "            \", \".join(o.display_name for o in obj.controlled.left),\n",
    "            \", \".join(o.display_name for o in obj.controlled.right),\n",
    "        ))\n",
    "\n",
    "print(f\"Matched {len(rows)} examples\")\n",
    "        \n",
    "HTML(tabulate(rows[:15], tablefmt=\"html\", headers=[\"Name\", \"Enzyme\", \"Reactants\", \"Products\"]))"
   ]
  },
  {
   "cell_type": "markdown",
   "id": "composed-marketing",
   "metadata": {},
   "source": [
    "## Which catalyses of biochemical reactions require a cofactor?\n",
    "\n",
    "It turns out Pathway Commons has a few more than 80 with this granularity."
   ]
  },
  {
   "cell_type": "code",
   "execution_count": 5,
   "id": "portuguese-leather",
   "metadata": {},
   "outputs": [
    {
     "name": "stdout",
     "output_type": "stream",
     "text": [
      "Matched 84 examples\n"
     ]
    },
    {
     "data": {
      "text/html": [
       "<table>\n",
       "<thead>\n",
       "<tr><th>Name                                                      </th><th>Controller                                                 </th><th>Cofactor         </th><th>Reactants                            </th><th>Products                                      </th></tr>\n",
       "</thead>\n",
       "<tbody>\n",
       "<tr><td>tyrosine aminotransferase                                 </td><td>[Complex(TAT)]                                             </td><td>pyridoxal-P      </td><td>2-oxoglutarate, tyr                  </td><td>glt, 4-hydroxyphenylpyruvate                  </td></tr>\n",
       "<tr><td>nitric oxide synthase                                     </td><td>[Complex(iNOS)]                                            </td><td>protoheme IX     </td><td>NADPH, O2, arg, H+                   </td><td>L-citrulline, nitric oxide, NADP+, H2O        </td></tr>\n",
       "<tr><td>protoporphyrinogen oxidase                                </td><td>[Complex(PPO)]                                             </td><td>FAD              </td><td>protoporphyrinogen IX, O2            </td><td>hydrogen peroxide, protoporphyrin IX          </td></tr>\n",
       "<tr><td>creatine kinase                                           </td><td>[Complex(BB)]                                              </td><td>Mg2+             </td><td>creatine, ATP                        </td><td>creatine-phosphate, ADP, H+                   </td></tr>\n",
       "<tr><td>kynurenine 3-monooxygenase                                </td><td>[Protein(Kynurenine 3-monooxygenase)]                      </td><td>FAD              </td><td>NADPH, O2, H+, L-kynurenine          </td><td>3-hydroxy-L-kynurenine, NADP+, H2O            </td></tr>\n",
       "<tr><td>arginase                                                  </td><td>[Complex(arginase type 2)]                                 </td><td>Mn2+             </td><td>arg, H2O                             </td><td>L-ornithine, urea                             </td></tr>\n",
       "<tr><td>methylarsonate reductase                                  </td><td>[Complex(glutathione transferase, &amp;Omega; class)]          </td><td>glutathione      </td><td>glutathione, methylarsonate          </td><td>glutathione disulfide, methylarsonite         </td></tr>\n",
       "<tr><td>glutamine-phenylpyruvate transaminase                     </td><td>[Complex(KAT1)]                                            </td><td>pyridoxal-P      </td><td>gln, 2-oxo-3-phenylpropanoate        </td><td>phe, 2-oxoglutaramate                         </td></tr>\n",
       "<tr><td>&lt;small&gt;D&lt;/small&gt;-lactate dehydrogenase (cytochrome)       </td><td>[Protein(DLD)]                                             </td><td>FAD              </td><td>an oxidized cytochrome c, (R)-lactate</td><td>a reduced c-type cytochrome, pyruvate, H+     </td></tr>\n",
       "<tr><td>indoleamine 2,3-dioxygenase                               </td><td>[Protein(IDO)]                                             </td><td>protoheme IX     </td><td>trp, O2, H+                          </td><td>N-formylkynurenine                            </td></tr>\n",
       "<tr><td>UDP-alpha-D-glucose:glycogenin alpha-D-glucosyltransferase</td><td>[Complex(glycogenin 1)]                                    </td><td>Mn2+             </td><td>a glycogenin, UDP-D-glucose          </td><td>a glucosyl-glycogenin, H+, UDP                </td></tr>\n",
       "<tr><td>squalene monooxygenase                                    </td><td>[Protein(squalene monooxygenase)]                          </td><td>FAD              </td><td>NADPH, O2, squalene, H+              </td><td>NADP+, (3S)-2,3-epoxy-2,3-dihydrosqualene, H2O</td></tr>\n",
       "<tr><td>nitric-oxide synthase                                     </td><td>[Complex(nNOS)]                                            </td><td>FMN              </td><td>NADPH, O2, arg, H+                   </td><td>L-citrulline, nitric oxide, NADP+, H2O        </td></tr>\n",
       "<tr><td>cotinine:UDP-glucuronate glucuronosyltransferase          </td><td>[Protein(UDP glycosyltransferase 1 family, polypeptide A4)]</td><td>UDP-D-glucuronate</td><td>UDP-D-glucuronate, cotinine          </td><td>cotinine-glucuronide, UDP                     </td></tr>\n",
       "<tr><td>nicotine monooxygenase                                    </td><td>[Protein(FMO 3)]                                           </td><td>NADPH            </td><td>(S)-nicotine, O2, NADPH              </td><td>nicotine-1&#x27;-N-oxide, NADP+, H2O               </td></tr>\n",
       "</tbody>\n",
       "</table>"
      ],
      "text/plain": [
       "<IPython.core.display.HTML object>"
      ]
     },
     "execution_count": 5,
     "metadata": {},
     "output_type": "execute_result"
    }
   ],
   "source": [
    "def iter_cofactored_catalyses(model: BioPaxModel) -> Iterable[Catalysis]:\n",
    "    \"\"\"Iterate over catalyses of biochemical reactions that require a cofactor.\"\"\"\n",
    "    for obj in model.get_objects_by_type(Catalysis):\n",
    "        if not obj.cofactor:\n",
    "            continue\n",
    "        if not isinstance(obj.controlled, BiochemicalReaction):\n",
    "            continue\n",
    "        yield obj\n",
    "\n",
    "rows = [\n",
    "    (\n",
    "        obj.display_name,\n",
    "        obj.controller,\n",
    "        obj.cofactor.display_name,\n",
    "        \", \".join(o.display_name for o in obj.controlled.left),\n",
    "        \", \".join(o.display_name for o in obj.controlled.right),\n",
    "    )\n",
    "    for obj in iter_cofactored_catalyses(pc12)\n",
    "]\n",
    "\n",
    "print(f\"Matched {len(rows)} examples\")\n",
    "\n",
    "HTML(tabulate(rows[:15], tablefmt=\"html\", headers=[\"Name\", \"Controller\", \"Cofactor\", \"Reactants\", \"Products\"]))"
   ]
  },
  {
   "cell_type": "markdown",
   "id": "lucky-roller",
   "metadata": {},
   "source": [
    "## Find Phosphorylation Reactions\n",
    "\n",
    "And later, generalize it to find any kind of addition of a modification."
   ]
  },
  {
   "cell_type": "code",
   "execution_count": 6,
   "id": "heavy-nancy",
   "metadata": {},
   "outputs": [
    {
     "name": "stdout",
     "output_type": "stream",
     "text": [
      "Matched 15332 examples\n"
     ]
    },
    {
     "data": {
      "text/html": [
       "<table>\n",
       "<thead>\n",
       "<tr><th>Name  </th><th>Reactant            </th></tr>\n",
       "</thead>\n",
       "<tbody>\n",
       "<tr><td>      </td><td>Protein(PDHA2)      </td></tr>\n",
       "<tr><td>      </td><td>Protein(AVEN)       </td></tr>\n",
       "<tr><td>      </td><td>Protein(SIT1)       </td></tr>\n",
       "<tr><td>      </td><td>Protein(RALY)       </td></tr>\n",
       "<tr><td>      </td><td>Protein(ATP1A1)     </td></tr>\n",
       "<tr><td>      </td><td>Protein(Kv11.1 iso5)</td></tr>\n",
       "<tr><td>      </td><td>Protein(HSF1)       </td></tr>\n",
       "<tr><td>      </td><td>Protein(IRF3)       </td></tr>\n",
       "<tr><td>      </td><td>Protein(TPPP)       </td></tr>\n",
       "<tr><td>      </td><td>Protein(PINX1)      </td></tr>\n",
       "<tr><td>      </td><td>Protein(PKCD)       </td></tr>\n",
       "<tr><td>      </td><td>Protein(PRKCA)      </td></tr>\n",
       "<tr><td>      </td><td>Protein(TPX2)       </td></tr>\n",
       "<tr><td>      </td><td>Protein(CDC37)      </td></tr>\n",
       "<tr><td>      </td><td>Protein(IKKB)       </td></tr>\n",
       "</tbody>\n",
       "</table>"
      ],
      "text/plain": [
       "<IPython.core.display.HTML object>"
      ]
     },
     "execution_count": 6,
     "metadata": {},
     "output_type": "execute_result"
    }
   ],
   "source": [
    "def get_simple_physical_entity_xrefs(obj: SimplePhysicalEntity) -> Set[Tuple[str, str]]:\n",
    "    \"\"\"Get xrefs from a simple physical entity as pairs.\"\"\"\n",
    "    if not obj.entity_reference:\n",
    "        return set()\n",
    "    return {(xref.db, xref.id) for xref in obj.entity_reference.xref or []}\n",
    "\n",
    "def is_modification_reaction(obj: Any) -> bool:\n",
    "    \"\"\"Check if the object is a biochemical reaction with the same\n",
    "    entity as reactant/product but it's modified.\n",
    "    \"\"\"\n",
    "    if not isinstance(obj, BiochemicalReaction):\n",
    "        return False\n",
    "    if len(obj.left) != 1 or len(obj.right) != 1:\n",
    "        return False\n",
    "    left, right = obj.left[0], obj.right[0]\n",
    "    if not isinstance(left, Protein) or not isinstance(right, Protein):\n",
    "        return False\n",
    "    left_xrefs = get_simple_physical_entity_xrefs(left)\n",
    "    right_xrefs = get_simple_physical_entity_xrefs(right)\n",
    "    return 0 < len(left_xrefs.intersection(right_xrefs))\n",
    "\n",
    "def iter_modification_reactions(model: BioPaxModel) -> Iterable[BiochemicalReaction]:\n",
    "    \"\"\"Iterate over biochemical reactions in the model that are modification reactions which\n",
    "    pass :func:`is_modification_reaction`.\n",
    "    \"\"\"\n",
    "    for obj in model.get_objects_by_type(BiochemicalReaction):\n",
    "        if is_modification_reaction(obj):\n",
    "            yield obj\n",
    "\n",
    "def iter_phosphorylations(m):\n",
    "    for obj in iter_modification_reactions(m):\n",
    "        left = list(iter_phosphosites(obj.left[0]))\n",
    "        right = list(iter_phosphosites(obj.right[0]))\n",
    "        if not left and right:\n",
    "            yield obj\n",
    "\n",
    "rows = [\n",
    "    (\n",
    "        obj.display_name, obj.left[0]\n",
    "    )\n",
    "    for obj in iter_phosphorylations(pc12)\n",
    "]\n",
    "\n",
    "print(f\"Matched {len(rows)} examples\")\n",
    "\n",
    "HTML(tabulate(rows[:15], tablefmt=\"html\", headers=[\"Name\", \"Reactant\"]))"
   ]
  },
  {
   "cell_type": "markdown",
   "id": "monetary-analysis",
   "metadata": {},
   "source": [
    "## Get Proteins with Bound Small Molecules \n",
    "\n",
    "In general, complexes are pretty easy to get with `get_objects_by_type()` then iterating over the `component` attribute. The following functions iterate over complexes between proteins and one or more small molecules."
   ]
  },
  {
   "cell_type": "code",
   "execution_count": 7,
   "id": "derived-system",
   "metadata": {},
   "outputs": [
    {
     "name": "stdout",
     "output_type": "stream",
     "text": [
      "Complex(phenanthrene/ESR2 protein complex)\n",
      "  Protein(ESR2 protein)\n",
      "  SmallMolecule(phenanthrene)\n",
      "Complex(SIRT3(?-399):Zn2+)\n",
      "  SmallMolecule(Zn2+)\n",
      "  Protein(SIRT3)\n",
      "Complex(mono-n-octyl phthalate/PPARB protein complex)\n",
      "  SmallMolecule(mono-n-octyl phthalate)\n",
      "  Protein(PPARB protein)\n",
      "Complex(Cholestanols/GPBAR1 protein complex)\n",
      "  SmallMolecule(Cholestanols)\n",
      "  Protein(GPBAR1 protein)\n",
      "Complex(RAB4A:GTP)\n",
      "  Protein(RAB4A)\n",
      "  SmallMolecule(GTP)\n",
      "Complex(fenofibric acid/PPARA protein complex)\n",
      "  SmallMolecule(fenofibric acid)\n",
      "  Protein(PPARA protein)\n",
      "Complex(Dipyridamole/RCAN1 protein alternative form complex)\n",
      "  SmallMolecule(Dipyridamole)\n",
      "  Protein(RCAN1 protein alternative form)\n",
      "Complex(pirinixic acid/PPARA protein complex)\n",
      "  SmallMolecule(pirinixic acid)\n",
      "  Protein(PPARA protein)\n",
      "Complex(4-nitrobenzylthioinosine/SLC29A1 protein complex)\n",
      "  Protein(SLC29A1 protein)\n",
      "  SmallMolecule(4-nitrobenzylthioinosine)\n",
      "Complex(bisphenol A/PGR complex)\n",
      "  Protein(PGR)\n",
      "  SmallMolecule(bisphenol A)\n"
     ]
    }
   ],
   "source": [
    "def head(it, n=10):\n",
    "    for _, obj in zip(range(n), it):\n",
    "        yield obj\n",
    "\n",
    "def iter_bound(m):\n",
    "    for obj in m.get_objects_by_type(Complex):\n",
    "        c = Counter(c.__class__ for c in obj.component)\n",
    "        if c.get(Protein) != 1:\n",
    "            continue\n",
    "        if {SmallMolecule, Protein} != set(c):\n",
    "            continue\n",
    "        yield obj\n",
    "\n",
    "for obj in head(iter_bound(pc12)):\n",
    "    print(obj)\n",
    "    for component in obj.component:\n",
    "        print(\" \", component)"
   ]
  },
  {
   "cell_type": "markdown",
   "id": "statistical-chocolate",
   "metadata": {},
   "source": [
    "Get proteins with multiple bound small molecules"
   ]
  },
  {
   "cell_type": "code",
   "execution_count": 8,
   "id": "continued-grade",
   "metadata": {},
   "outputs": [
    {
     "name": "stdout",
     "output_type": "stream",
     "text": [
      "Complex(Vitamin K 3/NADP/DCXR protein complex)\n",
      "  SmallMolecule(Vitamin K 3)\n",
      "  SmallMolecule(NADP)\n",
      "  Protein(DCXR protein)\n",
      "Complex(palmitoylated, myristoylated eNOS dimer)\n",
      "  SmallMolecule(Zn2+)\n",
      "  SmallMolecule(FMN)\n",
      "  SmallMolecule(heme)\n",
      "  Protein(2xPalmC-MyrG-NOS3)\n",
      "  SmallMolecule(FAD)\n",
      "Complex(Cholestanol/NAD/HSD17B10 protein complex)\n",
      "  SmallMolecule(NAD)\n",
      "  Protein(HSD17B10 protein)\n",
      "  SmallMolecule(Cholestanol)\n",
      "Complex(lauroyl-coenzyme A/NADP/HSDL2 protein complex)\n",
      "  Protein(HSDL2 protein)\n",
      "  SmallMolecule(lauroyl-coenzyme A)\n",
      "  SmallMolecule(NADP)\n",
      "Complex(CIAPIN1:4Fe-4S:2Fe-2S oxidized)\n",
      "  Protein(CIAPIN1)\n",
      "  SmallMolecule((2Fe-2S)(2+))\n",
      "  SmallMolecule(4Fe-4S cluster)\n",
      "Complex(pyruvate kinase complex, liver and RBC)\n",
      "  Protein(Pyruvate kinase, R/L type)\n",
      "  SmallMolecule(Mg2+)\n",
      "  SmallMolecule(K+)\n",
      "Complex(PP2B catalytic (Fe3+, Zn2+))\n",
      "  SmallMolecule(Zn2+)\n",
      "  SmallMolecule(Fe3+)\n",
      "  Protein(PPP3CA,B,C)\n",
      "Complex(Glycyrrhetinic Acid/NADP/HSD3B1 protein complex)\n",
      "  SmallMolecule(Glycyrrhetinic Acid)\n",
      "  SmallMolecule(NADP)\n",
      "  Protein(HSD3B1 protein)\n",
      "Complex(MAT1A mutants:K+:2Mg2+)\n",
      "  SmallMolecule(Mg2+)\n",
      "  SmallMolecule(K+)\n",
      "  Protein(MAT1A mutants)\n",
      "Complex(Estradiol/adenosine 3'-phosphate-5'-phosphate/SULT1E1 protein complex)\n",
      "  Protein(SULT1E1 protein)\n",
      "  SmallMolecule(adenosine 3'-phosphate-5'-phosphate)\n",
      "  SmallMolecule(Estradiol)\n"
     ]
    }
   ],
   "source": [
    "def iter_bound_multiple(m):\n",
    "    for obj in m.get_objects_by_type(Complex):\n",
    "        c = Counter(c.__class__ for c in obj.component)\n",
    "        if c.get(Protein) != 1:\n",
    "            continue\n",
    "        if {SmallMolecule, Protein} != set(c):\n",
    "            continue\n",
    "        if c.get(SmallMolecule) < 2:\n",
    "            continue\n",
    "        yield obj\n",
    "\n",
    "for obj in head(iter_bound_multiple(pc12)):\n",
    "    print(obj)\n",
    "    for component in obj.component:\n",
    "        print(\" \", component)"
   ]
  }
 ],
 "metadata": {
  "kernelspec": {
   "display_name": "Python 3",
   "language": "python",
   "name": "python3"
  },
  "language_info": {
   "codemirror_mode": {
    "name": "ipython",
    "version": 3
   },
   "file_extension": ".py",
   "mimetype": "text/x-python",
   "name": "python",
   "nbconvert_exporter": "python",
   "pygments_lexer": "ipython3",
   "version": "3.9.5"
  }
 },
 "nbformat": 4,
 "nbformat_minor": 5
}
