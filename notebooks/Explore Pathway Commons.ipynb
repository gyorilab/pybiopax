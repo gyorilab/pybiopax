{
 "cells": [
  {
   "cell_type": "markdown",
   "id": "secret-capacity",
   "metadata": {},
   "source": [
    "This notebook is a demonstration of PyBioPAX that contains a mix of functions that have been pre-implemented in `pybiopax.tools` as well as *ad-hoc* traversal tools implemented in the notebook."
   ]
  },
  {
   "cell_type": "code",
   "execution_count": 14,
   "id": "functional-tanzania",
   "metadata": {},
   "outputs": [],
   "source": [
    "import pystow\n",
    "import gzip\n",
    "from typing import Optional, Iterable, Set, Tuple, Any\n",
    "import pickle\n",
    "import pybiopax\n",
    "from lxml import etree\n",
    "from tabulate import tabulate\n",
    "from pybiopax.biopax import *\n",
    "from tqdm.auto import tqdm\n",
    "from collections import Counter\n",
    "from IPython.display import HTML"
   ]
  },
  {
   "cell_type": "code",
   "execution_count": 2,
   "id": "worse-freeware",
   "metadata": {},
   "outputs": [
    {
     "data": {
      "application/vnd.jupyter.widget-view+json": {
       "model_id": "f2d8fcf1b535480c9fb14f307ee361dc",
       "version_major": 2,
       "version_minor": 0
      },
      "text/plain": [
       "Processing OWL elements:   0%|          | 0.00/3.75M [00:00<?, ?it/s]"
      ]
     },
     "metadata": {},
     "output_type": "display_data"
    }
   ],
   "source": [
    "def ensure_pc_detailed(version: Optional[str], force: bool = False):\n",
    "    if version is None:\n",
    "        import bioversions\n",
    "        \n",
    "        version = bioversions.get_version(\"pathwaycommons\")\n",
    "\n",
    "    url = f\"https://www.pathwaycommons.org/archives/PC2/v{version}/PathwayCommons{version}.Detailed.BIOPAX.owl.gz\"\n",
    "    path = pystow.ensure(\"bio\", \"pathwaycommons\", version, url=url)    \n",
    "    return pybiopax.model_from_owl_gz(path)\n",
    "\n",
    "pc12 = ensure_pc_detailed(version=\"12\")"
   ]
  },
  {
   "cell_type": "code",
   "execution_count": 3,
   "id": "brief-clone",
   "metadata": {},
   "outputs": [
    {
     "name": "stdout",
     "output_type": "stream",
     "text": [
      "Type                                Count\n",
      "--------------------------------  -------\n",
      "TemplateReactionRegulation         962641\n",
      "RelationshipXref                   683543\n",
      "Evidence                           558049\n",
      "TemplateReaction                   166320\n",
      "Control                            152432\n",
      "UnificationXref                    133283\n",
      "PublicationXref                    119613\n",
      "Protein                            114023\n",
      "SequenceSite                       108257\n",
      "Catalysis                          100923\n",
      "Stoichiometry                       87274\n",
      "ModificationFeature                 85815\n",
      "BiochemicalReaction                 50353\n",
      "Rna                                 50323\n",
      "RnaReference                        49119\n",
      "Complex                             45610\n",
      "SmallMolecule                       39555\n",
      "ProteinReference                    27981\n",
      "ComplexAssembly                     24552\n",
      "SmallMoleculeReference              24228\n",
      "SequenceInterval                    23617\n",
      "FragmentFeature                     23597\n",
      "Degradation                         20625\n",
      "BindingFeature                      16930\n",
      "Modulation                          15364\n",
      "PathwayStep                         15160\n",
      "Transport                            6342\n",
      "Pathway                              5772\n",
      "SequenceLocation                     4514\n",
      "RnaRegion                            4286\n",
      "RnaRegionReference                   4251\n",
      "BiochemicalPathwayStep               3831\n",
      "MolecularInteraction                 3545\n",
      "DnaRegion                            2674\n",
      "DnaRegionReference                   2672\n",
      "PhysicalEntity                       1680\n",
      "Dna                                  1679\n",
      "DnaReference                         1266\n",
      "ChemicalStructure                    1144\n",
      "BioSource                             591\n",
      "TransportWithBiochemicalReaction      582\n",
      "SequenceModificationVocabulary        346\n",
      "CellularLocationVocabulary            295\n",
      "SequenceRegionVocabulary              253\n",
      "Conversion                            247\n",
      "EntityFeature                          84\n",
      "InteractionVocabulary                  49\n",
      "EvidenceCodeVocabulary                 47\n",
      "RelationshipTypeVocabulary             18\n",
      "Provenance                             14\n",
      "Interaction                             6\n",
      "Score                                   4\n",
      "EntityReferenceTypeVocabulary           2\n",
      "DeltaG                                  2\n",
      "CellVocabulary                          2\n",
      "TissueVocabulary                        1\n"
     ]
    }
   ],
   "source": [
    "type_counter = Counter(\n",
    "    obj.__class__.__name__\n",
    "    for obj in pc12.objects.values()\n",
    ")\n",
    "print(tabulate(type_counter.most_common(), headers=[\"Type\", \"Count\"]))"
   ]
  },
  {
   "cell_type": "markdown",
   "id": "interracial-certification",
   "metadata": {},
   "source": [
    "## Which enzymes need to be phosphorylated to catalyze a reaction?\n",
    "\n",
    "There are a few different perspectives for the concept of \"active states\", but this is a quick and dirty way of identifying them."
   ]
  },
  {
   "cell_type": "code",
   "execution_count": 6,
   "id": "subject-kingston",
   "metadata": {},
   "outputs": [
    {
     "data": {
      "application/vnd.jupyter.widget-view+json": {
       "model_id": "1ad07af997a545e4a6baf5e9f0ea4504",
       "version_major": 2,
       "version_minor": 0
      },
      "text/plain": [
       "0it [00:00, ?it/s]"
      ]
     },
     "metadata": {},
     "output_type": "display_data"
    },
    {
     "data": {
      "text/html": [
       "<table>\n",
       "<thead>\n",
       "<tr><th>Name             </th><th>Enzyme          </th><th>Reactants    </th><th>Products                </th></tr>\n",
       "</thead>\n",
       "<tbody>\n",
       "<tr><td>                 </td><td>RAF1            </td><td>MEK1         </td><td>MEK1                    </td></tr>\n",
       "<tr><td>                 </td><td>JAK2_p          </td><td>STAT5, STAT5 </td><td>STAT5_p                 </td></tr>\n",
       "<tr><td>                 </td><td>RAF1            </td><td>MEK2         </td><td>MEK2                    </td></tr>\n",
       "<tr><td>                 </td><td>JAK1_p          </td><td>gp130, gp130 </td><td>gp130_p                 </td></tr>\n",
       "<tr><td>                 </td><td>Akt_p           </td><td>GSK3b        </td><td>GSK3b_p                 </td></tr>\n",
       "<tr><td>CATALYSIS        </td><td>Raf1            </td><td>MEK          </td><td>MEK                     </td></tr>\n",
       "<tr><td>                 </td><td>MEK1/2(MKK1/2)_p</td><td>ERK1/2       </td><td>ERK1/2_p                </td></tr>\n",
       "<tr><td>                 </td><td>PLCgamma1       </td><td>PI-4-5-P2    </td><td>DAG, IP3                </td></tr>\n",
       "<tr><td>                 </td><td>MEK1/2(MKK1/2)_p</td><td>ERK1/2       </td><td>ERK1/2_p                </td></tr>\n",
       "<tr><td>CATALYSIS        </td><td>MAPKAPK2        </td><td>SRF          </td><td>SRF                     </td></tr>\n",
       "<tr><td>UNKNOWN_CATALYSIS</td><td>PKCtheta        </td><td>PRKD1        </td><td>PRKD1                   </td></tr>\n",
       "<tr><td>                 </td><td>ERK1/2_p        </td><td>ELK-1        </td><td>ELK-1_p                 </td></tr>\n",
       "<tr><td>                 </td><td>p-T,Y-JNK1      </td><td>BIM, BAD, ATP</td><td>ADP, p-S128-BAD, BCL2L11</td></tr>\n",
       "<tr><td>                 </td><td>MKK4            </td><td>nPKC-delta   </td><td>nPKC-delta              </td></tr>\n",
       "<tr><td>CATALYSIS        </td><td>TAK1            </td><td>ATP, MKK6    </td><td>ADP, MKK6               </td></tr>\n",
       "</tbody>\n",
       "</table>"
      ],
      "text/plain": [
       "<IPython.core.display.HTML object>"
      ]
     },
     "execution_count": 6,
     "metadata": {},
     "output_type": "execute_result"
    }
   ],
   "source": [
    "def iter_modifications(entity: PhysicalEntity, query: str) -> Iterable[ModificationFeature]:\n",
    "    \"\"\"Iterate over modification features in a protein that have the query string as a substring.\"\"\"\n",
    "    for feature in entity.feature or []:\n",
    "        # If this is a modification feature which has a known type\n",
    "        # and that type includes \"phospho\", i.e., is a phosphorylation\n",
    "        if (\n",
    "            isinstance(feature, ModificationFeature)\n",
    "            and feature.modification_type\n",
    "            and any(query in mod for mod in feature.modification_type.term)\n",
    "        ):\n",
    "            yield feature\n",
    "\n",
    "def iter_phosphosites(protein: Protein):\n",
    "    yield from iter_modifications(protein, \"phospho\")\n",
    "\n",
    "rows = []\n",
    "for obj in tqdm(pc12.get_objects_by_type(Catalysis)):\n",
    "    for protein in obj.controller:\n",
    "        if not isinstance(protein, Protein):\n",
    "            continue\n",
    "        features = list(iter_phosphosites(protein))\n",
    "        if not features:\n",
    "            continue\n",
    "        rows.append((\n",
    "            obj.display_name or \"\",\n",
    "            protein.display_name,\n",
    "            \", \".join(o.display_name for o in obj.controlled.left),\n",
    "            \", \".join(o.display_name for o in obj.controlled.right),\n",
    "        ))\n",
    "\n",
    "HTML(tabulate(rows[:15], tablefmt=\"html\", headers=[\"Name\", \"Enzyme\", \"Reactants\", \"Products\"]))"
   ]
  },
  {
   "cell_type": "markdown",
   "id": "composed-marketing",
   "metadata": {},
   "source": [
    "## Which catalyses of biochemical reactions require a cofactor?\n",
    "\n",
    "It turns out Pathway Commons has a few more than 80 with this granularity."
   ]
  },
  {
   "cell_type": "code",
   "execution_count": 7,
   "id": "portuguese-leather",
   "metadata": {},
   "outputs": [
    {
     "data": {
      "text/html": [
       "<table>\n",
       "<thead>\n",
       "<tr><th>Name                                                      </th><th>Controller                                                 </th><th>Cofactor         </th><th>Reactants                            </th><th>Products                                      </th></tr>\n",
       "</thead>\n",
       "<tbody>\n",
       "<tr><td>tyrosine aminotransferase                                 </td><td>[Complex(TAT)]                                             </td><td>pyridoxal-P      </td><td>2-oxoglutarate, tyr                  </td><td>glt, 4-hydroxyphenylpyruvate                  </td></tr>\n",
       "<tr><td>nitric oxide synthase                                     </td><td>[Complex(iNOS)]                                            </td><td>protoheme IX     </td><td>NADPH, O2, arg, H+                   </td><td>L-citrulline, nitric oxide, NADP+, H2O        </td></tr>\n",
       "<tr><td>protoporphyrinogen oxidase                                </td><td>[Complex(PPO)]                                             </td><td>FAD              </td><td>protoporphyrinogen IX, O2            </td><td>hydrogen peroxide, protoporphyrin IX          </td></tr>\n",
       "<tr><td>creatine kinase                                           </td><td>[Complex(BB)]                                              </td><td>Mg2+             </td><td>creatine, ATP                        </td><td>creatine-phosphate, ADP, H+                   </td></tr>\n",
       "<tr><td>kynurenine 3-monooxygenase                                </td><td>[Protein(Kynurenine 3-monooxygenase)]                      </td><td>FAD              </td><td>NADPH, O2, H+, L-kynurenine          </td><td>3-hydroxy-L-kynurenine, NADP+, H2O            </td></tr>\n",
       "<tr><td>arginase                                                  </td><td>[Complex(arginase type 2)]                                 </td><td>Mn2+             </td><td>arg, H2O                             </td><td>L-ornithine, urea                             </td></tr>\n",
       "<tr><td>methylarsonate reductase                                  </td><td>[Complex(glutathione transferase, &amp;Omega; class)]          </td><td>glutathione      </td><td>glutathione, methylarsonate          </td><td>glutathione disulfide, methylarsonite         </td></tr>\n",
       "<tr><td>glutamine-phenylpyruvate transaminase                     </td><td>[Complex(KAT1)]                                            </td><td>pyridoxal-P      </td><td>gln, 2-oxo-3-phenylpropanoate        </td><td>phe, 2-oxoglutaramate                         </td></tr>\n",
       "<tr><td>&lt;small&gt;D&lt;/small&gt;-lactate dehydrogenase (cytochrome)       </td><td>[Protein(DLD)]                                             </td><td>FAD              </td><td>an oxidized cytochrome c, (R)-lactate</td><td>a reduced c-type cytochrome, pyruvate, H+     </td></tr>\n",
       "<tr><td>indoleamine 2,3-dioxygenase                               </td><td>[Protein(IDO)]                                             </td><td>protoheme IX     </td><td>trp, O2, H+                          </td><td>N-formylkynurenine                            </td></tr>\n",
       "<tr><td>UDP-alpha-D-glucose:glycogenin alpha-D-glucosyltransferase</td><td>[Complex(glycogenin 1)]                                    </td><td>Mn2+             </td><td>a glycogenin, UDP-D-glucose          </td><td>a glucosyl-glycogenin, H+, UDP                </td></tr>\n",
       "<tr><td>squalene monooxygenase                                    </td><td>[Protein(squalene monooxygenase)]                          </td><td>FAD              </td><td>NADPH, O2, squalene, H+              </td><td>NADP+, (3S)-2,3-epoxy-2,3-dihydrosqualene, H2O</td></tr>\n",
       "<tr><td>nitric-oxide synthase                                     </td><td>[Complex(nNOS)]                                            </td><td>FMN              </td><td>NADPH, O2, arg, H+                   </td><td>L-citrulline, nitric oxide, NADP+, H2O        </td></tr>\n",
       "<tr><td>cotinine:UDP-glucuronate glucuronosyltransferase          </td><td>[Protein(UDP glycosyltransferase 1 family, polypeptide A4)]</td><td>UDP-D-glucuronate</td><td>UDP-D-glucuronate, cotinine          </td><td>cotinine-glucuronide, UDP                     </td></tr>\n",
       "<tr><td>nicotine monooxygenase                                    </td><td>[Protein(FMO 3)]                                           </td><td>NADPH            </td><td>(S)-nicotine, O2, NADPH              </td><td>nicotine-1&#x27;-N-oxide, NADP+, H2O               </td></tr>\n",
       "</tbody>\n",
       "</table>"
      ],
      "text/plain": [
       "<IPython.core.display.HTML object>"
      ]
     },
     "execution_count": 7,
     "metadata": {},
     "output_type": "execute_result"
    }
   ],
   "source": [
    "def iter_cofactored_catalyses(model: BioPaxModel) -> Iterable[Catalysis]:\n",
    "    \"\"\"Iterate over catalyses of biochemical reactions that require a cofactor.\"\"\"\n",
    "    for obj in model.get_objects_by_type(Catalysis):\n",
    "        if not obj.cofactor:\n",
    "            continue\n",
    "        if not isinstance(obj.controlled, BiochemicalReaction):\n",
    "            continue\n",
    "        yield obj\n",
    "\n",
    "rows = [\n",
    "    (\n",
    "        obj.display_name,\n",
    "        obj.controller,\n",
    "        obj.cofactor.display_name,\n",
    "        \", \".join(o.display_name for o in obj.controlled.left),\n",
    "        \", \".join(o.display_name for o in obj.controlled.right),\n",
    "    )\n",
    "    for obj in iter_cofactored_catalyses(pc12)\n",
    "]\n",
    "\n",
    "HTML(tabulate(rows[:15], tablefmt=\"html\", headers=[\"Name\", \"Controller\", \"Cofactor\", \"Reactants\", \"Products\"]))"
   ]
  },
  {
   "cell_type": "markdown",
   "id": "lucky-roller",
   "metadata": {},
   "source": [
    "## Find Phosphorylation Reactions\n",
    "\n",
    "And later, generalize it to find any kind of addition of a modification."
   ]
  },
  {
   "cell_type": "code",
   "execution_count": 15,
   "id": "heavy-nancy",
   "metadata": {},
   "outputs": [
    {
     "data": {
      "text/html": [
       "<table>\n",
       "<thead>\n",
       "<tr><th>Name  </th><th>Reactant            </th></tr>\n",
       "</thead>\n",
       "<tbody>\n",
       "<tr><td>      </td><td>Protein(PDHA2)      </td></tr>\n",
       "<tr><td>      </td><td>Protein(AVEN)       </td></tr>\n",
       "<tr><td>      </td><td>Protein(SIT1)       </td></tr>\n",
       "<tr><td>      </td><td>Protein(RALY)       </td></tr>\n",
       "<tr><td>      </td><td>Protein(ATP1A1)     </td></tr>\n",
       "<tr><td>      </td><td>Protein(Kv11.1 iso5)</td></tr>\n",
       "<tr><td>      </td><td>Protein(HSF1)       </td></tr>\n",
       "<tr><td>      </td><td>Protein(IRF3)       </td></tr>\n",
       "<tr><td>      </td><td>Protein(TPPP)       </td></tr>\n",
       "<tr><td>      </td><td>Protein(PINX1)      </td></tr>\n",
       "<tr><td>      </td><td>Protein(PKCD)       </td></tr>\n",
       "<tr><td>      </td><td>Protein(PRKCA)      </td></tr>\n",
       "<tr><td>      </td><td>Protein(TPX2)       </td></tr>\n",
       "<tr><td>      </td><td>Protein(CDC37)      </td></tr>\n",
       "<tr><td>      </td><td>Protein(IKKB)       </td></tr>\n",
       "</tbody>\n",
       "</table>"
      ],
      "text/plain": [
       "<IPython.core.display.HTML object>"
      ]
     },
     "execution_count": 15,
     "metadata": {},
     "output_type": "execute_result"
    }
   ],
   "source": [
    "def get_simple_physical_entity_xrefs(obj: SimplePhysicalEntity) -> Set[Tuple[str, str]]:\n",
    "    \"\"\"Get xrefs from a simple physical entity as pairs.\"\"\"\n",
    "    if not obj.entity_reference:\n",
    "        return set()\n",
    "    return {(xref.db, xref.id) for xref in obj.entity_reference.xref or []}\n",
    "\n",
    "def is_modification_reaction(obj: Any) -> bool:\n",
    "    \"\"\"Check if the object is a biochemical reaction with the same\n",
    "    entity as reactant/product but it's modified.\n",
    "    \"\"\"\n",
    "    if not isinstance(obj, BiochemicalReaction):\n",
    "        return False\n",
    "    if len(obj.left) != 1 or len(obj.right) != 1:\n",
    "        return False\n",
    "    left, right = obj.left[0], obj.right[0]\n",
    "    if not isinstance(left, Protein) or not isinstance(right, Protein):\n",
    "        return False\n",
    "    left_xrefs = get_simple_physical_entity_xrefs(left)\n",
    "    right_xrefs = get_simple_physical_entity_xrefs(right)\n",
    "    return 0 < len(left_xrefs.intersection(right_xrefs))\n",
    "\n",
    "def iter_modification_reactions(model: BioPaxModel) -> Iterable[BiochemicalReaction]:\n",
    "    \"\"\"Iterate over biochemical reactions in the model that are modification reactions which\n",
    "    pass :func:`is_modification_reaction`.\n",
    "    \"\"\"\n",
    "    for obj in model.get_objects_by_type(BiochemicalReaction):\n",
    "        if is_modification_reaction(obj):\n",
    "            yield obj\n",
    "\n",
    "def iter_phosphorylations(m):\n",
    "    for obj in iter_modification_reactions(m):\n",
    "        left = list(iter_phosphosites(obj.left[0]))\n",
    "        right = list(iter_phosphosites(obj.right[0]))\n",
    "        if not left and right:\n",
    "            yield obj\n",
    "\n",
    "rows = [\n",
    "    (\n",
    "        obj.display_name, obj.left[0]\n",
    "    )\n",
    "    for obj in iter_phosphorylations(pc12)\n",
    "]\n",
    "\n",
    "HTML(tabulate(rows[:15], tablefmt=\"html\", headers=[\"Name\", \"Reactant\"]))"
   ]
  },
  {
   "cell_type": "markdown",
   "id": "monetary-analysis",
   "metadata": {},
   "source": [
    "## Get Proteins with Bound Small Molecules \n",
    "\n",
    "In general, complexes are pretty easy to get with `get_objects_by_type()` then iterating over the `component` attribute. The following functions iterate over complexes between proteins and one or more small molecules."
   ]
  },
  {
   "cell_type": "code",
   "execution_count": 16,
   "id": "derived-system",
   "metadata": {},
   "outputs": [
    {
     "name": "stdout",
     "output_type": "stream",
     "text": [
      "Complex(phenanthrene/ESR2 protein complex)\n",
      "  Protein(ESR2 protein)\n",
      "  SmallMolecule(phenanthrene)\n",
      "Complex(SIRT3(?-399):Zn2+)\n",
      "  SmallMolecule(Zn2+)\n",
      "  Protein(SIRT3)\n",
      "Complex(mono-n-octyl phthalate/PPARB protein complex)\n",
      "  SmallMolecule(mono-n-octyl phthalate)\n",
      "  Protein(PPARB protein)\n",
      "Complex(Cholestanols/GPBAR1 protein complex)\n",
      "  SmallMolecule(Cholestanols)\n",
      "  Protein(GPBAR1 protein)\n",
      "Complex(RAB4A:GTP)\n",
      "  Protein(RAB4A)\n",
      "  SmallMolecule(GTP)\n",
      "Complex(fenofibric acid/PPARA protein complex)\n",
      "  SmallMolecule(fenofibric acid)\n",
      "  Protein(PPARA protein)\n",
      "Complex(Dipyridamole/RCAN1 protein alternative form complex)\n",
      "  SmallMolecule(Dipyridamole)\n",
      "  Protein(RCAN1 protein alternative form)\n",
      "Complex(pirinixic acid/PPARA protein complex)\n",
      "  SmallMolecule(pirinixic acid)\n",
      "  Protein(PPARA protein)\n",
      "Complex(4-nitrobenzylthioinosine/SLC29A1 protein complex)\n",
      "  Protein(SLC29A1 protein)\n",
      "  SmallMolecule(4-nitrobenzylthioinosine)\n",
      "Complex(bisphenol A/PGR complex)\n",
      "  Protein(PGR)\n",
      "  SmallMolecule(bisphenol A)\n"
     ]
    }
   ],
   "source": [
    "def head(it, n=10):\n",
    "    for _, obj in zip(range(n), it):\n",
    "        yield obj\n",
    "\n",
    "def iter_bound(m):\n",
    "    for obj in m.get_objects_by_type(Complex):\n",
    "        c = Counter(c.__class__ for c in obj.component)\n",
    "        if c.get(Protein) != 1:\n",
    "            continue\n",
    "        if {SmallMolecule, Protein} != set(c):\n",
    "            continue\n",
    "        yield obj\n",
    "\n",
    "for obj in head(iter_bound(pc12)):\n",
    "    print(obj)\n",
    "    for component in obj.component:\n",
    "        print(\" \", component)"
   ]
  },
  {
   "cell_type": "markdown",
   "id": "statistical-chocolate",
   "metadata": {},
   "source": [
    "Get proteins with multiple bound small molecules"
   ]
  },
  {
   "cell_type": "code",
   "execution_count": 17,
   "id": "continued-grade",
   "metadata": {},
   "outputs": [
    {
     "name": "stdout",
     "output_type": "stream",
     "text": [
      "Complex(Vitamin K 3/NADP/DCXR protein complex)\n",
      "  SmallMolecule(Vitamin K 3)\n",
      "  SmallMolecule(NADP)\n",
      "  Protein(DCXR protein)\n",
      "Complex(palmitoylated, myristoylated eNOS dimer)\n",
      "  SmallMolecule(Zn2+)\n",
      "  SmallMolecule(FMN)\n",
      "  SmallMolecule(heme)\n",
      "  Protein(2xPalmC-MyrG-NOS3)\n",
      "  SmallMolecule(FAD)\n",
      "Complex(Cholestanol/NAD/HSD17B10 protein complex)\n",
      "  SmallMolecule(NAD)\n",
      "  Protein(HSD17B10 protein)\n",
      "  SmallMolecule(Cholestanol)\n",
      "Complex(lauroyl-coenzyme A/NADP/HSDL2 protein complex)\n",
      "  Protein(HSDL2 protein)\n",
      "  SmallMolecule(lauroyl-coenzyme A)\n",
      "  SmallMolecule(NADP)\n",
      "Complex(CIAPIN1:4Fe-4S:2Fe-2S oxidized)\n",
      "  Protein(CIAPIN1)\n",
      "  SmallMolecule((2Fe-2S)(2+))\n",
      "  SmallMolecule(4Fe-4S cluster)\n",
      "Complex(pyruvate kinase complex, liver and RBC)\n",
      "  Protein(Pyruvate kinase, R/L type)\n",
      "  SmallMolecule(Mg2+)\n",
      "  SmallMolecule(K+)\n",
      "Complex(PP2B catalytic (Fe3+, Zn2+))\n",
      "  SmallMolecule(Zn2+)\n",
      "  SmallMolecule(Fe3+)\n",
      "  Protein(PPP3CA,B,C)\n",
      "Complex(Glycyrrhetinic Acid/NADP/HSD3B1 protein complex)\n",
      "  SmallMolecule(Glycyrrhetinic Acid)\n",
      "  SmallMolecule(NADP)\n",
      "  Protein(HSD3B1 protein)\n",
      "Complex(MAT1A mutants:K+:2Mg2+)\n",
      "  SmallMolecule(Mg2+)\n",
      "  SmallMolecule(K+)\n",
      "  Protein(MAT1A mutants)\n",
      "Complex(Estradiol/adenosine 3'-phosphate-5'-phosphate/SULT1E1 protein complex)\n",
      "  Protein(SULT1E1 protein)\n",
      "  SmallMolecule(adenosine 3'-phosphate-5'-phosphate)\n",
      "  SmallMolecule(Estradiol)\n"
     ]
    }
   ],
   "source": [
    "def iter_bound_multiple(m):\n",
    "    for obj in m.get_objects_by_type(Complex):\n",
    "        c = Counter(c.__class__ for c in obj.component)\n",
    "        if c.get(Protein) != 1:\n",
    "            continue\n",
    "        if {SmallMolecule, Protein} != set(c):\n",
    "            continue\n",
    "        if c.get(SmallMolecule) < 2:\n",
    "            continue\n",
    "        yield obj\n",
    "\n",
    "for obj in head(iter_bound_multiple(pc12)):\n",
    "    print(obj)\n",
    "    for component in obj.component:\n",
    "        print(\" \", component)"
   ]
  },
  {
   "cell_type": "code",
   "execution_count": 18,
   "id": "typical-inquiry",
   "metadata": {},
   "outputs": [
    {
     "data": {
      "text/plain": [
       "[('RelationshipXref', 648812),\n",
       " ('UnificationXref', 137355),\n",
       " ('PublicationXref', 4549)]"
      ]
     },
     "execution_count": 18,
     "metadata": {},
     "output_type": "execute_result"
    }
   ],
   "source": [
    "counter = Counter(\n",
    "    xref.__class__.__name__\n",
    "    for obj in pc12.get_objects_by_type(SimplePhysicalEntity)\n",
    "    if obj.entity_reference\n",
    "    for xref in obj.entity_reference.xref or []\n",
    ")\n",
    "counter.most_common()"
   ]
  }
 ],
 "metadata": {
  "kernelspec": {
   "display_name": "Python 3",
   "language": "python",
   "name": "python3"
  },
  "language_info": {
   "codemirror_mode": {
    "name": "ipython",
    "version": 3
   },
   "file_extension": ".py",
   "mimetype": "text/x-python",
   "name": "python",
   "nbconvert_exporter": "python",
   "pygments_lexer": "ipython3",
   "version": "3.9.5"
  }
 },
 "nbformat": 4,
 "nbformat_minor": 5
}
