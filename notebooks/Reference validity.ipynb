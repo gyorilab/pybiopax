{
 "cells": [
  {
   "cell_type": "markdown",
   "metadata": {},
   "source": [
    "This notebook explores how references (i.e., database prefixes and identifiers) are used in BioPAX models and whether these are valid."
   ]
  },
  {
   "cell_type": "markdown",
   "metadata": {},
   "source": [
    "First, we load a BioPAX model."
   ]
  },
  {
   "cell_type": "code",
   "execution_count": 17,
   "metadata": {},
   "outputs": [
    {
     "data": {
      "application/vnd.jupyter.widget-view+json": {
       "model_id": "99d11904662a481a8f1619da478d6987",
       "version_major": 2,
       "version_minor": 0
      },
      "text/plain": [
       "Processing OWL elements:   0%|          | 0.00/122k [00:00<?, ?it/s]"
      ]
     },
     "metadata": {},
     "output_type": "display_data"
    }
   ],
   "source": [
    "import pybiopax\n",
    "#model = pybiopax.model_from_owl_url('https://www.pathwaycommons.org/archives/PC2/v12/PathwayCommons12.pid.BIOPAX.owl.gz')\n",
    "model = pybiopax.model_from_pc_query('pathsfromto', source=['MAPK1'], target=['ELK1'])"
   ]
  },
  {
   "cell_type": "markdown",
   "metadata": {},
   "source": [
    "Next, we check all the references in the model and see if the prefixes and identifiers are valid."
   ]
  },
  {
   "cell_type": "code",
   "execution_count": 19,
   "metadata": {},
   "outputs": [
    {
     "ename": "SyntaxError",
     "evalue": "invalid syntax (<ipython-input-19-49e279297bed>, line 12)",
     "output_type": "error",
     "traceback": [
      "\u001b[0;36m  File \u001b[0;32m\"<ipython-input-19-49e279297bed>\"\u001b[0;36m, line \u001b[0;32m12\u001b[0m\n\u001b[0;31m    pattern = f'^({banana}{banana_peel})?{pattern[1:]}' +\u001b[0m\n\u001b[0m                                                         ^\u001b[0m\n\u001b[0;31mSyntaxError\u001b[0m\u001b[0;31m:\u001b[0m invalid syntax\n"
     ]
    }
   ],
   "source": [
    "import re\n",
    "import bioregistry\n",
    "from pybiopax.references import get_prefix_id_pairs\n",
    "\n",
    "def validate_id(resource, identifier):\n",
    "    pattern = resource.get_pattern()                                            \n",
    "    if pattern is None:                                                     \n",
    "        return None                                                         \n",
    "    banana = resource.get_banana()                                              \n",
    "    banana_peel = resource.get_banana_peel() or ':'                                                                 \n",
    "    if banana:                                                              \n",
    "        pattern = f'^({banana}{banana_peel})?{pattern[1:]}' +\n",
    "    return True if re.match(pattern, identifier) else False\n",
    "\n",
    "\n",
    "for prefix, identifier in get_prefix_id_pairs(model):\n",
    "    if not prefix:\n",
    "        continue\n",
    "    res = bioregistry.get_resource(prefix)\n",
    "    if not res:\n",
    "        print(prefix + '... UNKNOWN PREFIX')\n",
    "    else:\n",
    "        id_valid = validate_id(res, identifier)\n",
    "        prefix_valid = (res.prefix == prefix)\n",
    "        print(prefix + ' / ' + identifier + '... %s PREFIX / %sVALID ID' % ('VALID' if prefix_valid else 'NONSTANDARD', '' if id_valid else 'IN'))\n"
   ]
  },
  {
   "cell_type": "code",
   "execution_count": null,
   "metadata": {},
   "outputs": [],
   "source": []
  }
 ],
 "metadata": {
  "kernelspec": {
   "display_name": "Python 3",
   "language": "python",
   "name": "python3"
  },
  "language_info": {
   "codemirror_mode": {
    "name": "ipython",
    "version": 3
   },
   "file_extension": ".py",
   "mimetype": "text/x-python",
   "name": "python",
   "nbconvert_exporter": "python",
   "pygments_lexer": "ipython3",
   "version": "3.9.9"
  }
 },
 "nbformat": 4,
 "nbformat_minor": 4
}
